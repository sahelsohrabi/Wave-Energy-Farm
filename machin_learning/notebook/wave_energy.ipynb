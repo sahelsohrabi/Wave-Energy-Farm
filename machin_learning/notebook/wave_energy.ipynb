{
 "cells": [
  {
   "cell_type": "code",
   "execution_count": 1,
   "id": "9e432144",
   "metadata": {},
   "outputs": [],
   "source": [
    "import numpy as np\n",
    "import pandas as pd\n",
    "import os"
   ]
  },
  {
   "cell_type": "code",
   "execution_count": 2,
   "id": "de9768e2",
   "metadata": {},
   "outputs": [
    {
     "name": "stdout",
     "output_type": "stream",
     "text": [
      "Perth_49 mover_power CSV created with 1766107 rows.\n",
      "Perth_100 mover_power CSV created with 727700 rows.\n",
      "Sydney_49 mover_power CSV created with 880236 rows.\n",
      "Sydney_100 mover_power CSV created with 231800 rows.\n"
     ]
    }
   ],
   "source": [
    "input_folder = \"../data/input/\"\n",
    "output_folder = \"../data/output/mover_power/\"\n",
    "os.makedirs(output_folder, exist_ok=True)\n",
    "\n",
    "sites = {\n",
    "    'Perth_49': 49,\n",
    "    'Perth_100': 100,\n",
    "    'Sydney_49': 49,\n",
    "    'Sydney_100': 100\n",
    "}\n",
    "\n",
    "for site_name, num_movers in sites.items():\n",
    "    \n",
    "    \n",
    "    df = pd.read_csv(os.path.join(input_folder, f\"WEC_{site_name}.csv\"))\n",
    "\n",
    "    long_data = []\n",
    "\n",
    "    \n",
    "    for idx, row in df.iterrows():\n",
    "        sample_id = idx + 1\n",
    "        site_id = list(sites.keys()).index(site_name) + 1  \n",
    "\n",
    "        for mover in range(1, num_movers + 1):\n",
    "            long_data.append({\n",
    "                \"sample_id\": sample_id,\n",
    "                \"site_id\": site_id,\n",
    "                \"mover_id\": mover,\n",
    "                \"X\": row[f\"X{mover}\"],\n",
    "                \"Y\": row[f\"Y{mover}\"],\n",
    "                \"Power\": row[f\"Power{mover}\"]\n",
    "            })\n",
    "\n",
    "    df_long = pd.DataFrame(long_data)\n",
    "    \n",
    "\n",
    "    \n",
    "    df_long.to_csv(os.path.join(output_folder, f\"{site_name}_mover_power.csv\"), index=False)\n",
    "\n",
    "    print(f\"{site_name} mover_power CSV created with {len(df_long)} rows.\")"
   ]
  },
  {
   "cell_type": "code",
   "execution_count": 3,
   "id": "b0d6019e",
   "metadata": {},
   "outputs": [
    {
     "name": "stdout",
     "output_type": "stream",
     "text": [
      "Perth_49 total_power CSV created with 36043 rows.\n",
      "Perth_100 total_power CSV created with 7277 rows.\n",
      "Sydney_49 total_power CSV created with 17964 rows.\n",
      "Sydney_100 total_power CSV created with 2318 rows.\n"
     ]
    }
   ],
   "source": [
    "input_folder = \"../data/input/\"\n",
    "output_folder = \"../data/output/total_power/\"\n",
    "os.makedirs(output_folder, exist_ok=True)\n",
    "\n",
    "\n",
    "sites = {\n",
    "    'Perth_49': 49,\n",
    "    'Perth_100': 100,\n",
    "    'Sydney_49': 49,\n",
    "    'Sydney_100': 100\n",
    "}\n",
    "\n",
    "for site_name in sites.keys():\n",
    "    \n",
    "    \n",
    "    df = pd.read_csv(os.path.join(input_folder, f\"WEC_{site_name}.csv\"))\n",
    "\n",
    "    \n",
    "    df_total = pd.DataFrame({\n",
    "        \"sample_id\": range(1, len(df)+1),  \n",
    "        \"site_id\": list(sites.keys()).index(site_name) + 1,  \n",
    "        \"Total_Power\": df[\"Total_Power\"],\n",
    "        \"qW\": df[\"qW\"]\n",
    "    })\n",
    "\n",
    "    \n",
    "    df_total.to_csv(os.path.join(output_folder, f\"{site_name}_total_power.csv\"), index=False)\n",
    "    print(f\"{site_name} total_power CSV created with {len(df_total)} rows.\")\n"
   ]
  },
  {
   "cell_type": "code",
   "execution_count": 4,
   "id": "5791f869",
   "metadata": {},
   "outputs": [],
   "source": [
    "perth_49= pd.read_csv(\"../data/input/WEC_Perth_49.csv\")\n",
    "perth_100= pd.read_csv(\"../data/input/WEC_Perth_100.csv\")\n",
    "sydney_49= pd.read_csv(\"../data/input/WEC_sydney_49.csv\")\n",
    "sydney_100= pd.read_csv(\"../data/input/WEC_sydney_100.csv\")\n"
   ]
  },
  {
   "cell_type": "code",
   "execution_count": 12,
   "id": "a512aaa0",
   "metadata": {},
   "outputs": [
    {
     "data": {
      "text/plain": [
       "(2318, 304)"
      ]
     },
     "execution_count": 12,
     "metadata": {},
     "output_type": "execute_result"
    }
   ],
   "source": [
    "sydney_100.shape"
   ]
  },
  {
   "cell_type": "code",
   "execution_count": 5,
   "id": "61bed12d",
   "metadata": {},
   "outputs": [
    {
     "name": "stderr",
     "output_type": "stream",
     "text": [
      "C:\\Users\\Admin\\AppData\\Local\\Temp\\ipykernel_8676\\2665096326.py:20: PerformanceWarning: DataFrame is highly fragmented.  This is usually the result of calling `frame.insert` many times, which has poor performance.  Consider joining all columns at once using pd.concat(axis=1) instead. To get a de-fragmented frame, use `newframe = frame.copy()`\n",
      "  data[\"site_enc\"] = le.fit_transform(data[\"site\"])\n"
     ]
    },
    {
     "name": "stdout",
     "output_type": "stream",
     "text": [
      "[LightGBM] [Info] Auto-choosing row-wise multi-threading, the overhead of testing was 0.074608 seconds.\n",
      "You can set `force_row_wise=true` to remove the overhead.\n",
      "And if memory is not enough, you can set `force_col_wise=true`.\n",
      "[LightGBM] [Info] Total Bins 47133\n",
      "[LightGBM] [Info] Number of data points in the train set: 50881, number of used features: 203\n",
      "[LightGBM] [Info] Start training from score 4441842.537278\n",
      "Training until validation scores don't improve for 100 rounds\n",
      "[100]\tvalid_0's l2: 1.88309e+08\n",
      "[200]\tvalid_0's l2: 1.14222e+08\n",
      "[300]\tvalid_0's l2: 1.02606e+08\n",
      "[400]\tvalid_0's l2: 9.50386e+07\n",
      "[500]\tvalid_0's l2: 9.00241e+07\n",
      "[600]\tvalid_0's l2: 8.64494e+07\n",
      "[700]\tvalid_0's l2: 8.37682e+07\n",
      "[800]\tvalid_0's l2: 8.17048e+07\n",
      "[900]\tvalid_0's l2: 8.00512e+07\n",
      "[1000]\tvalid_0's l2: 7.87495e+07\n",
      "Did not meet early stopping. Best iteration is:\n",
      "[1000]\tvalid_0's l2: 7.87495e+07\n",
      "{'MAE': 4343.546675223904, 'RMSE': np.float64(8874.08974434637), 'R2': 0.9999391174578495}\n"
     ]
    },
    {
     "data": {
      "text/plain": [
       "<lightgbm.basic.Booster at 0x16a10470ec0>"
      ]
     },
     "execution_count": 5,
     "metadata": {},
     "output_type": "execute_result"
    }
   ],
   "source": [
    "# LightGBM model\n",
    "\n",
    "import pandas as pd\n",
    "import lightgbm as lgb\n",
    "from sklearn.model_selection import train_test_split\n",
    "from sklearn.preprocessing import LabelEncoder\n",
    "from sklearn.metrics import mean_absolute_error, mean_squared_error, r2_score\n",
    "import numpy as np\n",
    "\n",
    "perth_49[\"site\"] = \"Perth\";   perth_49[\"n_turbines\"] = 49\n",
    "perth_100[\"site\"] = \"Perth\";  perth_100[\"n_turbines\"] = 100\n",
    "sydney_49[\"site\"] = \"Sydney\"; sydney_49[\"n_turbines\"] = 49\n",
    "sydney_100[\"site\"] = \"Sydney\";sydney_100[\"n_turbines\"] = 100\n",
    "\n",
    "\n",
    "data = pd.concat([perth_49, perth_100, sydney_49, sydney_100], ignore_index=True)\n",
    "\n",
    "\n",
    "le = LabelEncoder()\n",
    "data[\"site_enc\"] = le.fit_transform(data[\"site\"])\n",
    "\n",
    "\n",
    "feature_cols = [c for c in data.columns if (\"X\" in c or \"Y\" in c or c==\"qW\" or c==\"n_turbines\")]\n",
    "feature_cols.append(\"site_enc\")\n",
    "\n",
    "target_col = \"Total_Power\"\n",
    "\n",
    "X = data[feature_cols].astype(\"float32\")\n",
    "y = data[target_col].astype(\"float32\")\n",
    "\n",
    "\n",
    "X_train, X_test, y_train, y_test = train_test_split(X, y, test_size=0.2, random_state=42)\n",
    "\n",
    "\n",
    "model = lgb.LGBMRegressor(\n",
    "    objective=\"regression\",\n",
    "    learning_rate=0.05,\n",
    "    n_estimators=1000,\n",
    "    subsample=0.8,\n",
    "    colsample_bytree=0.8,\n",
    "    num_leaves=64,\n",
    "    random_state=42\n",
    ")\n",
    "\n",
    "model.fit(\n",
    "    X_train, y_train,\n",
    "    eval_set=[(X_test, y_test)],\n",
    "    eval_metric=\"l2\",\n",
    "    callbacks=[\n",
    "        lgb.early_stopping(stopping_rounds=100),\n",
    "        lgb.log_evaluation(period=100)\n",
    "    ]\n",
    ")\n",
    "\n",
    "y_pred = model.predict(X_test)\n",
    "\n",
    "mae  = mean_absolute_error(y_test, y_pred)\n",
    "rmse = np.sqrt(mean_squared_error(y_test, y_pred))  \n",
    "r2   = r2_score(y_test, y_pred)\n",
    "\n",
    "print({\"MAE\": mae, \"RMSE\": rmse, \"R2\": r2})\n",
    "\n",
    "model.booster_.save_model(\"total_power_lgbm.txt\")"
   ]
  },
  {
   "cell_type": "markdown",
   "id": "a33c7ead",
   "metadata": {},
   "source": [
    "### LightGBM Model Performance \n",
    "\n",
    "**Metrics on Test Set:**\n",
    "\n",
    "- **Mean Absolute Error (MAE):** 4,343.55  \n",
    "  > The average absolute difference between the model predictions and the actual values. On average, the model has an error of 4,343 units of Total_Power.\n",
    "\n",
    "- **Root Mean Squared Error (RMSE):** 8,874.09  \n",
    "  > Measures the square root of the average squared errors, giving more weight to larger errors.\n",
    "\n",
    "- **R² Score:** 0.99994  \n",
    "  > Indicates that the model explains 99.994% of the variance in Total_Power, showing very high accuracy.\n",
    "\n",
    "**Notes:**  \n",
    "This LightGBM model, using  summary features and farm information, provides highly accurate predictions of total turbine power. Low MAE and RMSE values indicate precise predictions, and the R² close to 1 shows the model captures almost all variability in Total_Power."
   ]
  },
  {
   "cell_type": "code",
   "execution_count": 6,
   "id": "7cefa986",
   "metadata": {},
   "outputs": [
    {
     "name": "stderr",
     "output_type": "stream",
     "text": [
      "C:\\Users\\Admin\\AppData\\Local\\Temp\\ipykernel_8676\\3728250302.py:23: FutureWarning: \n",
      "\n",
      "Passing `palette` without assigning `hue` is deprecated and will be removed in v0.14.0. Assign the `y` variable to `hue` and set `legend=False` for the same effect.\n",
      "\n",
      "  sns.barplot(data=feat_df_top, x='Importance_Percent', y='Feature', palette='viridis', ax=ax)\n"
     ]
    },
    {
     "data": {
      "image/png": "[encoded data removed]",
      "text/plain": [
       "<Figure size 1200x600 with 1 Axes>"
      ]
     },
     "metadata": {},
     "output_type": "display_data"
    }
   ],
   "source": [
    "import pandas as pd\n",
    "import matplotlib.pyplot as plt\n",
    "import seaborn as sns\n",
    "import numpy as np\n",
    "\n",
    "\n",
    "\n",
    "importances = model.feature_importances_\n",
    "features = X.columns\n",
    "\n",
    "\n",
    "feat_df_lgb = pd.DataFrame({\n",
    "    'Feature': features,\n",
    "    'Importance': importances\n",
    "})\n",
    "feat_df_lgb['Importance_Percent'] = 100 * feat_df_lgb['Importance'] / feat_df_lgb['Importance'].sum()\n",
    "\n",
    "\n",
    "feat_df_top = feat_df_lgb.sort_values(by='Importance_Percent', ascending=False).head(15)\n",
    "\n",
    "\n",
    "fig, ax = plt.subplots(figsize=(12,6))\n",
    "sns.barplot(data=feat_df_top, x='Importance_Percent', y='Feature', palette='viridis', ax=ax)\n",
    "\n",
    "\n",
    "ax.set_title(\"Top 15 LightGBM Feature Importance (%)\", loc='left', weight='bold', color='gray')\n",
    "ax.spines['right'].set_visible(False)\n",
    "ax.spines['top'].set_visible(False)\n",
    "ax.set_xlabel(\"Importance (%)\", loc='left', weight='bold', color='gray')\n",
    "ax.set_ylabel(\"Feature\", loc='bottom', weight='bold', color='gray')\n",
    "\n",
    "plt.tight_layout()\n",
    "\n",
    "plt.savefig(\"../features/LightGBM_Top15_Feature_Importance.png\", dpi=300, bbox_inches='tight')\n",
    "plt.show()"
   ]
  },
  {
   "cell_type": "code",
   "execution_count": 7,
   "id": "a1252bda",
   "metadata": {},
   "outputs": [
    {
     "name": "stderr",
     "output_type": "stream",
     "text": [
      "C:\\Users\\Admin\\AppData\\Local\\Temp\\ipykernel_8676\\598973975.py:11: PerformanceWarning: DataFrame is highly fragmented.  This is usually the result of calling `frame.insert` many times, which has poor performance.  Consider joining all columns at once using pd.concat(axis=1) instead. To get a de-fragmented frame, use `newframe = frame.copy()`\n",
      "  data[\"site_enc\"] = le.fit_transform(data[\"site\"])\n",
      "C:\\Users\\Admin\\AppData\\Local\\Temp\\ipykernel_8676\\598973975.py:19: PerformanceWarning: DataFrame is highly fragmented.  This is usually the result of calling `frame.insert` many times, which has poor performance.  Consider joining all columns at once using pd.concat(axis=1) instead. To get a de-fragmented frame, use `newframe = frame.copy()`\n",
      "  df['centroid_X'] = df[X_cols].mean(axis=1)\n",
      "C:\\Users\\Admin\\AppData\\Local\\Temp\\ipykernel_8676\\598973975.py:20: PerformanceWarning: DataFrame is highly fragmented.  This is usually the result of calling `frame.insert` many times, which has poor performance.  Consider joining all columns at once using pd.concat(axis=1) instead. To get a de-fragmented frame, use `newframe = frame.copy()`\n",
      "  df['centroid_Y'] = df[Y_cols].mean(axis=1)\n",
      "C:\\Users\\Admin\\AppData\\Local\\Temp\\ipykernel_8676\\598973975.py:23: PerformanceWarning: DataFrame is highly fragmented.  This is usually the result of calling `frame.insert` many times, which has poor performance.  Consider joining all columns at once using pd.concat(axis=1) instead. To get a de-fragmented frame, use `newframe = frame.copy()`\n",
      "  df['X_range'] = df[X_cols].max(axis=1) - df[X_cols].min(axis=1)\n",
      "C:\\Users\\Admin\\AppData\\Local\\Temp\\ipykernel_8676\\598973975.py:24: PerformanceWarning: DataFrame is highly fragmented.  This is usually the result of calling `frame.insert` many times, which has poor performance.  Consider joining all columns at once using pd.concat(axis=1) instead. To get a de-fragmented frame, use `newframe = frame.copy()`\n",
      "  df['Y_range'] = df[Y_cols].max(axis=1) - df[Y_cols].min(axis=1)\n",
      "C:\\Users\\Admin\\AppData\\Local\\Temp\\ipykernel_8676\\598973975.py:31: PerformanceWarning: DataFrame is highly fragmented.  This is usually the result of calling `frame.insert` many times, which has poor performance.  Consider joining all columns at once using pd.concat(axis=1) instead. To get a de-fragmented frame, use `newframe = frame.copy()`\n",
      "  df['mean_radius'] = distances.mean(axis=1)\n",
      "C:\\Users\\Admin\\AppData\\Local\\Temp\\ipykernel_8676\\598973975.py:32: PerformanceWarning: DataFrame is highly fragmented.  This is usually the result of calling `frame.insert` many times, which has poor performance.  Consider joining all columns at once using pd.concat(axis=1) instead. To get a de-fragmented frame, use `newframe = frame.copy()`\n",
      "  df['std_radius']  = distances.std(axis=1)\n"
     ]
    },
    {
     "name": "stdout",
     "output_type": "stream",
     "text": [
      "[LightGBM] [Info] Auto-choosing col-wise multi-threading, the overhead of testing was 0.011304 seconds.\n",
      "You can set `force_col_wise=true` to remove the overhead.\n",
      "[LightGBM] [Info] Total Bins 963\n",
      "[LightGBM] [Info] Number of data points in the train set: 50881, number of used features: 7\n",
      "[LightGBM] [Info] Start training from score 4441842.537278\n",
      "Training until validation scores don't improve for 100 rounds\n",
      "[100]\tvalid_0's l2: 8.08008e+08\n",
      "[200]\tvalid_0's l2: 7.26837e+08\n",
      "[300]\tvalid_0's l2: 7.13189e+08\n",
      "[400]\tvalid_0's l2: 7.06603e+08\n",
      "[500]\tvalid_0's l2: 6.99369e+08\n",
      "[600]\tvalid_0's l2: 6.95036e+08\n",
      "[700]\tvalid_0's l2: 6.91636e+08\n",
      "[800]\tvalid_0's l2: 6.89433e+08\n",
      "[900]\tvalid_0's l2: 6.87027e+08\n",
      "[1000]\tvalid_0's l2: 6.85858e+08\n",
      "Did not meet early stopping. Best iteration is:\n",
      "[1000]\tvalid_0's l2: 6.85858e+08\n",
      "{'MAE': 7100.558168943428, 'RMSE': np.float64(26188.895830863323), 'R2': 0.999469751410903}\n"
     ]
    }
   ],
   "source": [
    "perth_49[\"site\"] = \"Perth\";   perth_49[\"n_turbines\"] = 49\n",
    "perth_100[\"site\"] = \"Perth\";  perth_100[\"n_turbines\"] = 100\n",
    "sydney_49[\"site\"] = \"Sydney\"; sydney_49[\"n_turbines\"] = 49\n",
    "sydney_100[\"site\"] = \"Sydney\";sydney_100[\"n_turbines\"] = 100\n",
    "\n",
    "\n",
    "data = pd.concat([perth_49, perth_100, sydney_49, sydney_100], ignore_index=True)\n",
    "\n",
    "\n",
    "le = LabelEncoder()\n",
    "data[\"site_enc\"] = le.fit_transform(data[\"site\"])\n",
    "\n",
    "\n",
    "def create_spatial_features(df, n_turbines):\n",
    "    X_cols = [f'X{i}' for i in range(1, n_turbines+1)]\n",
    "    Y_cols = [f'Y{i}' for i in range(1, n_turbines+1)]\n",
    "\n",
    "    # Centroid\n",
    "    df['centroid_X'] = df[X_cols].mean(axis=1)\n",
    "    df['centroid_Y'] = df[Y_cols].mean(axis=1)\n",
    "\n",
    "    # Bounding box\n",
    "    df['X_range'] = df[X_cols].max(axis=1) - df[X_cols].min(axis=1)\n",
    "    df['Y_range'] = df[Y_cols].max(axis=1) - df[Y_cols].min(axis=1)\n",
    "\n",
    "    # Radius stats\n",
    "    centroid_X = df[X_cols].mean(axis=1)\n",
    "    centroid_Y = df[Y_cols].mean(axis=1)\n",
    "    distances = np.sqrt((df[X_cols].subtract(centroid_X, axis=0))**2 + \n",
    "                        (df[Y_cols].subtract(centroid_Y, axis=0))**2)\n",
    "    df['mean_radius'] = distances.mean(axis=1)\n",
    "    df['std_radius']  = distances.std(axis=1)\n",
    "    return df\n",
    "\n",
    "\n",
    "data = create_spatial_features(data, n_turbines=data['n_turbines'].max())\n",
    "\n",
    "\n",
    "feature_cols = ['centroid_X', 'centroid_Y', 'X_range', 'Y_range', 'mean_radius', 'std_radius', 'qW', 'n_turbines', 'site_enc']\n",
    "target_col = \"Total_Power\"\n",
    "\n",
    "X = data[feature_cols].astype(\"float32\")\n",
    "y = data[target_col].astype(\"float32\")\n",
    "\n",
    "\n",
    "X_train, X_test, y_train, y_test = train_test_split(X, y, test_size=0.2, random_state=42)\n",
    "\n",
    "\n",
    "model = lgb.LGBMRegressor(\n",
    "    objective=\"regression\",\n",
    "    learning_rate=0.05,\n",
    "    n_estimators=1000,\n",
    "    subsample=0.8,\n",
    "    colsample_bytree=0.8,\n",
    "    num_leaves=64,\n",
    "    random_state=42\n",
    ")\n",
    "\n",
    "model.fit(\n",
    "    X_train, y_train,\n",
    "    eval_set=[(X_test, y_test)],\n",
    "    eval_metric=\"l2\",\n",
    "    callbacks=[\n",
    "        lgb.early_stopping(stopping_rounds=100),\n",
    "        lgb.log_evaluation(period=100)\n",
    "    ]\n",
    ")\n",
    "\n",
    "\n",
    "y_pred = model.predict(X_test)\n",
    "\n",
    "mae  = mean_absolute_error(y_test, y_pred)\n",
    "rmse = np.sqrt(mean_squared_error(y_test, y_pred))\n",
    "r2   = r2_score(y_test, y_pred)\n",
    "\n",
    "print({\"MAE\": mae, \"RMSE\": rmse, \"R2\": r2})\n",
    "\n"
   ]
  },
  {
   "cell_type": "markdown",
   "id": "11c277d0",
   "metadata": {},
   "source": [
    "### LightGBM Model Performance (With Spatial Features)\n",
    "\n",
    "**Test Set Metrics:**\n",
    "\n",
    "- **Mean Absolute Error (MAE):** 7,100.56  \n",
    "  > On average, the model predictions deviate from the true Total_Power by 7,100 units.\n",
    "\n",
    "- **Root Mean Squared Error (RMSE):** 26,188.90  \n",
    "  > Sensitive to larger errors; shows that some predictions have higher deviations, likely due to high variance in turbine layouts.\n",
    "\n",
    "- **R² Score:** 0.99947  \n",
    "  > The model still explains 99.947% of the variance in Total_Power, showing very strong predictive performance.\n",
    "\n",
    "**Notes:**  \n",
    "By introducing spatial summary features (centroid, layout ranges, and radius statistics), we reduced the number of input features and captured the overall arrangement of turbines.  \n",
    "Although MAE and RMSE slightly increased compared to the previous model using all individual coordinates, the R² remains very high, indicating that the model retains excellent accuracy while simplifying feature representation."
   ]
  },
  {
   "cell_type": "code",
   "execution_count": null,
   "id": "c5ba489f",
   "metadata": {},
   "outputs": [
    {
     "name": "stderr",
     "output_type": "stream",
     "text": [
      "C:\\Users\\Admin\\AppData\\Local\\Temp\\ipykernel_9472\\1853669651.py:16: FutureWarning: \n",
      "\n",
      "Passing `palette` without assigning `hue` is deprecated and will be removed in v0.14.0. Assign the `y` variable to `hue` and set `legend=False` for the same effect.\n",
      "\n",
      "  sns.barplot(data=feat_df_lgb, x='Importance_Percent', y='Feature', palette='viridis', ax=ax)\n"
     ]
    },
    {
     "data": {
      "image/png": "[encoded data removed]",
      "text/plain": [
       "<Figure size 1600x700 with 1 Axes>"
      ]
     },
     "metadata": {},
     "output_type": "display_data"
    }
   ],
   "source": [
    "importances = model.feature_importances_\n",
    "features = X.columns\n",
    "\n",
    "\n",
    "feat_df_lgb = pd.DataFrame({\n",
    "    'Feature': features,\n",
    "    'Importance': importances\n",
    "})\n",
    "feat_df_lgb['Importance_Percent'] = 100 * feat_df_lgb['Importance'] / feat_df_lgb['Importance'].sum()\n",
    "\n",
    "\n",
    "feat_df_lgb = feat_df_lgb.sort_values(by='Importance_Percent', ascending=False)\n",
    "\n",
    "\n",
    "fig, ax = plt.subplots(figsize=(16,7))\n",
    "sns.barplot(data=feat_df_lgb, x='Importance_Percent', y='Feature', palette='viridis', ax=ax)\n",
    "\n",
    "\n",
    "ax.set_title(\"LightGBM Feature Importance (%)\", loc='left', weight='bold', color='gray')\n",
    "ax.spines['right'].set_visible(False)\n",
    "ax.spines['top'].set_visible(False)\n",
    "ax.set_xlabel(\"Importance (%)\", loc='left', weight='bold', color='gray')\n",
    "ax.set_ylabel(\"Feature\", loc='bottom', weight='bold', color='gray')\n",
    "\n",
    "plt.savefig(\"../features/LightGBM Feature Importance with Spatial Features.png\", dpi=300, bbox_inches='tight')\n",
    "plt.tight_layout()\n",
    "plt.show()"
   ]
  },
  {
   "cell_type": "code",
   "execution_count": 14,
   "id": "7e570b3c",
   "metadata": {},
   "outputs": [
    {
     "name": "stdout",
     "output_type": "stream",
     "text": [
      "Random Forest: {'MAE': 4076.367555486348, 'RMSE': np.float64(13731.315418915337), 'R2': 0.9998542295710097}\n"
     ]
    }
   ],
   "source": [
    "# Random Forest Regressor\n",
    "\n",
    "from sklearn.ensemble import RandomForestRegressor\n",
    "\n",
    "\n",
    "rf_model = RandomForestRegressor(\n",
    "    n_estimators=500,\n",
    "    max_depth=None,\n",
    "    min_samples_split=2,\n",
    "    random_state=42,\n",
    "    n_jobs=-1\n",
    ")\n",
    "\n",
    "rf_model.fit(X_train, y_train)\n",
    "\n",
    "\n",
    "y_pred_rf = rf_model.predict(X_test)\n",
    "\n",
    "\n",
    "mae_rf  = mean_absolute_error(y_test, y_pred_rf)\n",
    "rmse_rf = np.sqrt(mean_squared_error(y_test, y_pred_rf))\n",
    "r2_rf   = r2_score(y_test, y_pred_rf)\n",
    "\n",
    "print(\"Random Forest:\", {\"MAE\": mae_rf, \"RMSE\": rmse_rf, \"R2\": r2_rf})"
   ]
  },
  {
   "cell_type": "markdown",
   "id": "1e8b78b7",
   "metadata": {},
   "source": [
    "### Random Forest Model Performance\n",
    "\n",
    "**Test Set Metrics:**\n",
    "\n",
    "- **Mean Absolute Error (MAE):** 4,076.37  \n",
    "  > On average, the model predictions deviate from the true Total_Power by about 4,076 units.\n",
    "\n",
    "- **Root Mean Squared Error (RMSE):** 13,731.32  \n",
    "  > Measures the square root of the average squared errors; sensitive to larger deviations.\n",
    "\n",
    "- **R² Score:** 0.99985  \n",
    "  > Indicates that the model explains 99.985% of the variance in Total_Power, demonstrating very high predictive accuracy.\n",
    "\n",
    "**Notes:**  \n",
    "The Random Forest model, using the selected features (likely spatial summaries and other relevant attributes), shows strong predictive performance.  \n",
    "The low MAE and RMSE, combined with an R² close to 1, confirm that the model captures nearly all variability in Total_Power."
   ]
  },
  {
   "cell_type": "code",
   "execution_count": 15,
   "id": "dbd9c47c",
   "metadata": {},
   "outputs": [
    {
     "name": "stderr",
     "output_type": "stream",
     "text": [
      "C:\\Users\\Admin\\AppData\\Local\\Temp\\ipykernel_9472\\3252448888.py:13: FutureWarning: \n",
      "\n",
      "Passing `palette` without assigning `hue` is deprecated and will be removed in v0.14.0. Assign the `y` variable to `hue` and set `legend=False` for the same effect.\n",
      "\n",
      "  sns.barplot(data = feat_df, x='Importance', y='Feature', palette='viridis', ax=ax)\n"
     ]
    },
    {
     "data": {
      "image/png": "[encoded data removed]",
      "text/plain": [
       "<Figure size 1600x700 with 1 Axes>"
      ]
     },
     "metadata": {},
     "output_type": "display_data"
    }
   ],
   "source": [
    "import seaborn as sns\n",
    "import matplotlib.pyplot as plt\n",
    "\n",
    "importances = rf_model.feature_importances_\n",
    "features = X.columns\n",
    "\n",
    "feat_df = pd.DataFrame({\n",
    "    'Feature': features,\n",
    "    'Importance': importances\n",
    "}).sort_values(by='Importance', ascending=False)\n",
    "\n",
    "fig, ax = plt.subplots(figsize = (16,7))\n",
    "sns.barplot(data = feat_df, x='Importance', y='Feature', palette='viridis', ax=ax)\n",
    "\n",
    "ax.set_title(\"Random Forest Feature Importance\", loc = 'left', weight = 'bold', color='gray')\n",
    "ax.spines[['right', 'top']].set_visible(False)\n",
    "ax.set_xlabel(\"Importance\", loc='left', weight='bold', color='gray')\n",
    "ax.set_ylabel(\"Feature\", loc='bottom', weight='bold', color='gray')\n",
    "plt.savefig(\"../features/Random_Forest_Importance.png\", dpi=300, bbox_inches='tight')\n",
    "plt.show()"
   ]
  },
  {
   "cell_type": "code",
   "execution_count": 16,
   "id": "13875683",
   "metadata": {},
   "outputs": [
    {
     "name": "stderr",
     "output_type": "stream",
     "text": [
      "C:\\Users\\Admin\\AppData\\Local\\Temp\\ipykernel_9472\\523466353.py:13: PerformanceWarning: DataFrame is highly fragmented.  This is usually the result of calling `frame.insert` many times, which has poor performance.  Consider joining all columns at once using pd.concat(axis=1) instead. To get a de-fragmented frame, use `newframe = frame.copy()`\n",
      "  data[\"site_enc\"] = le.fit_transform(data[\"site\"])\n",
      "C:\\Users\\Admin\\AppData\\Local\\Temp\\ipykernel_9472\\523466353.py:19: PerformanceWarning: DataFrame is highly fragmented.  This is usually the result of calling `frame.insert` many times, which has poor performance.  Consider joining all columns at once using pd.concat(axis=1) instead. To get a de-fragmented frame, use `newframe = frame.copy()`\n",
      "  df['centroid_X'] = df[X_cols].mean(axis=1)\n",
      "C:\\Users\\Admin\\AppData\\Local\\Temp\\ipykernel_9472\\523466353.py:20: PerformanceWarning: DataFrame is highly fragmented.  This is usually the result of calling `frame.insert` many times, which has poor performance.  Consider joining all columns at once using pd.concat(axis=1) instead. To get a de-fragmented frame, use `newframe = frame.copy()`\n",
      "  df['centroid_Y'] = df[Y_cols].mean(axis=1)\n",
      "C:\\Users\\Admin\\AppData\\Local\\Temp\\ipykernel_9472\\523466353.py:21: PerformanceWarning: DataFrame is highly fragmented.  This is usually the result of calling `frame.insert` many times, which has poor performance.  Consider joining all columns at once using pd.concat(axis=1) instead. To get a de-fragmented frame, use `newframe = frame.copy()`\n",
      "  df['X_range'] = df[X_cols].max(axis=1) - df[X_cols].min(axis=1)\n",
      "C:\\Users\\Admin\\AppData\\Local\\Temp\\ipykernel_9472\\523466353.py:22: PerformanceWarning: DataFrame is highly fragmented.  This is usually the result of calling `frame.insert` many times, which has poor performance.  Consider joining all columns at once using pd.concat(axis=1) instead. To get a de-fragmented frame, use `newframe = frame.copy()`\n",
      "  df['Y_range'] = df[Y_cols].max(axis=1) - df[Y_cols].min(axis=1)\n",
      "C:\\Users\\Admin\\AppData\\Local\\Temp\\ipykernel_9472\\523466353.py:28: PerformanceWarning: DataFrame is highly fragmented.  This is usually the result of calling `frame.insert` many times, which has poor performance.  Consider joining all columns at once using pd.concat(axis=1) instead. To get a de-fragmented frame, use `newframe = frame.copy()`\n",
      "  df['mean_radius'] = distances.mean(axis=1)\n"
     ]
    },
    {
     "name": "stdout",
     "output_type": "stream",
     "text": [
      "[0]\ttrain-rmse:1077100.40891\teval-rmse:1080623.57909\n"
     ]
    },
    {
     "name": "stderr",
     "output_type": "stream",
     "text": [
      "C:\\Users\\Admin\\AppData\\Local\\Temp\\ipykernel_9472\\523466353.py:29: PerformanceWarning: DataFrame is highly fragmented.  This is usually the result of calling `frame.insert` many times, which has poor performance.  Consider joining all columns at once using pd.concat(axis=1) instead. To get a de-fragmented frame, use `newframe = frame.copy()`\n",
      "  df['std_radius']  = distances.std(axis=1)\n"
     ]
    },
    {
     "name": "stdout",
     "output_type": "stream",
     "text": [
      "[100]\ttrain-rmse:16306.90775\teval-rmse:18068.10823\n",
      "[200]\ttrain-rmse:12978.16262\teval-rmse:15112.50474\n",
      "[300]\ttrain-rmse:12194.37921\teval-rmse:14570.06427\n",
      "[400]\ttrain-rmse:11563.44295\teval-rmse:14190.82534\n",
      "[500]\ttrain-rmse:11088.83355\teval-rmse:13919.36882\n",
      "[600]\ttrain-rmse:10706.35436\teval-rmse:13716.59917\n",
      "[700]\ttrain-rmse:10369.21008\teval-rmse:13560.26468\n",
      "[800]\ttrain-rmse:10107.99152\teval-rmse:13451.10950\n",
      "[900]\ttrain-rmse:9882.26262\teval-rmse:13355.09227\n",
      "[999]\ttrain-rmse:9680.93594\teval-rmse:13275.26532\n",
      "{'MAE': 7876.9384765625, 'RMSE': np.float64(13275.266023699864), 'R2': 0.9998637437820435}\n"
     ]
    }
   ],
   "source": [
    "# XGboost model\n",
    "\n",
    "import xgboost as xgb\n",
    "\n",
    "perth_49[\"site\"] = \"Perth\";   perth_49[\"n_turbines\"] = 49\n",
    "perth_100[\"site\"] = \"Perth\";  perth_100[\"n_turbines\"] = 100\n",
    "sydney_49[\"site\"] = \"Sydney\"; sydney_49[\"n_turbines\"] = 49\n",
    "sydney_100[\"site\"] = \"Sydney\";sydney_100[\"n_turbines\"] = 100\n",
    "\n",
    "data = pd.concat([perth_49, perth_100, sydney_49, sydney_100], ignore_index=True)\n",
    "\n",
    "le = LabelEncoder()\n",
    "data[\"site_enc\"] = le.fit_transform(data[\"site\"])\n",
    "\n",
    "def create_spatial_features(df, n_turbines):\n",
    "    X_cols = [f'X{i}' for i in range(1, n_turbines+1)]\n",
    "    Y_cols = [f'Y{i}' for i in range(1, n_turbines+1)]\n",
    "\n",
    "    df['centroid_X'] = df[X_cols].mean(axis=1)\n",
    "    df['centroid_Y'] = df[Y_cols].mean(axis=1)\n",
    "    df['X_range'] = df[X_cols].max(axis=1) - df[X_cols].min(axis=1)\n",
    "    df['Y_range'] = df[Y_cols].max(axis=1) - df[Y_cols].min(axis=1)\n",
    "\n",
    "    centroid_X = df[X_cols].mean(axis=1)\n",
    "    centroid_Y = df[Y_cols].mean(axis=1)\n",
    "    distances = np.sqrt((df[X_cols].subtract(centroid_X, axis=0))**2 +\n",
    "                        (df[Y_cols].subtract(centroid_Y, axis=0))**2)\n",
    "    df['mean_radius'] = distances.mean(axis=1)\n",
    "    df['std_radius']  = distances.std(axis=1)\n",
    "    return df\n",
    "\n",
    "data = create_spatial_features(data, n_turbines=data['n_turbines'].max())\n",
    "\n",
    "\n",
    "feature_cols = ['centroid_X', 'centroid_Y', 'X_range', 'Y_range', 'mean_radius', 'std_radius', 'qW', 'n_turbines', 'site_enc']\n",
    "target_col = \"Total_Power\"\n",
    "\n",
    "X = data[feature_cols].astype(\"float32\")\n",
    "y = data[target_col].astype(\"float32\")\n",
    "\n",
    "\n",
    "X_train, X_test, y_train, y_test = train_test_split(X, y, test_size=0.2, random_state=42)\n",
    "\n",
    "\n",
    "dtrain = xgb.DMatrix(X_train, label=y_train)\n",
    "dtest  = xgb.DMatrix(X_test, label=y_test)\n",
    "\n",
    "\n",
    "params = {\n",
    "    'objective': 'reg:squarederror',\n",
    "    'learning_rate': 0.05,\n",
    "    'max_depth': 6,\n",
    "    'subsample': 0.8,\n",
    "    'colsample_bytree': 0.8,\n",
    "    'seed': 42\n",
    "}\n",
    "\n",
    "\n",
    "evallist = [(dtrain, 'train'), (dtest, 'eval')]\n",
    "num_round = 1000\n",
    "\n",
    "xgb_model = xgb.train(\n",
    "    params,\n",
    "    dtrain,\n",
    "    num_boost_round=num_round,\n",
    "    evals=evallist,\n",
    "    early_stopping_rounds=100,\n",
    "    verbose_eval=100\n",
    ")\n",
    "\n",
    "\n",
    "y_pred = xgb_model.predict(dtest)\n",
    "\n",
    "mae  = mean_absolute_error(y_test, y_pred)\n",
    "rmse = np.sqrt(mean_squared_error(y_test, y_pred))\n",
    "r2   = r2_score(y_test, y_pred)\n",
    "\n",
    "print({\"MAE\": mae, \"RMSE\": rmse, \"R2\": r2})\n",
    "\n",
    "\n",
    "xgb_model.save_model(\"total_power_xgb_spatial.json\")"
   ]
  },
  {
   "cell_type": "markdown",
   "id": "7ce191ed",
   "metadata": {},
   "source": [
    "### Model Performance (XGBoost / Alternative Model)\n",
    "\n",
    "**Test Set Metrics:**\n",
    "\n",
    "- **Mean Absolute Error (MAE):** 7,876.94  \n",
    "  > On average, the model predictions deviate from the true Total_Power by about 7,877 units.\n",
    "\n",
    "- **Root Mean Squared Error (RMSE):** 13,275.27  \n",
    "  > Measures the square root of the average squared errors; sensitive to larger deviations.\n",
    "\n",
    "- **R² Score:** 0.99986  \n",
    "  > Indicates that the model explains 99.986% of the variance in Total_Power, demonstrating very strong predictive performance.\n",
    "\n",
    "**Notes:**  \n",
    "This model, using the selected features, provides accurate predictions of Total_Power.  \n",
    "Although the MAE is slightly higher compared to some other models, the RMSE and R² indicate excellent overall accuracy and that the model captures nearly all variability in the target."
   ]
  },
  {
   "cell_type": "code",
   "execution_count": null,
   "id": "dfd4d5e5",
   "metadata": {},
   "outputs": [
    {
     "name": "stderr",
     "output_type": "stream",
     "text": [
      "C:\\Users\\Admin\\AppData\\Local\\Temp\\ipykernel_9472\\1869722396.py:15: FutureWarning: \n",
      "\n",
      "Passing `palette` without assigning `hue` is deprecated and will be removed in v0.14.0. Assign the `y` variable to `hue` and set `legend=False` for the same effect.\n",
      "\n",
      "  sns.barplot(data=feat_df_xgb, x='Importance_Percent', y='Feature', palette='viridis', ax=ax)\n"
     ]
    },
    {
     "data": {
      "image/png": "[encoded data removed]",
      "text/plain": [
       "<Figure size 1600x700 with 1 Axes>"
      ]
     },
     "metadata": {},
     "output_type": "display_data"
    }
   ],
   "source": [
    "xgb_importance = xgb_model.get_score(importance_type='weight') \n",
    "feat_df_xgb = pd.DataFrame({\n",
    "    'Feature': list(xgb_importance.keys()),\n",
    "    'Importance': list(xgb_importance.values())\n",
    "})\n",
    "\n",
    "\n",
    "feat_df_xgb['Importance_Percent'] = 100 * feat_df_xgb['Importance'] / feat_df_xgb['Importance'].sum()\n",
    "\n",
    "\n",
    "feat_df_xgb = feat_df_xgb.sort_values(by='Importance_Percent', ascending=False)\n",
    "\n",
    "\n",
    "fig, ax = plt.subplots(figsize=(16,7))\n",
    "sns.barplot(data=feat_df_xgb, x='Importance_Percent', y='Feature', palette='viridis', ax=ax)\n",
    "\n",
    "ax.set_title(\"XGBoost Feature Importance (%)\", loc='left', weight='bold', color='gray')\n",
    "ax.spines['right'].set_visible(False)\n",
    "ax.spines['top'].set_visible(False)\n",
    "ax.set_xlabel(\"Importance (%)\", loc='left', weight='bold', color='gray')\n",
    "ax.set_ylabel(\"Feature\", loc='bottom', weight='bold', color='gray')\n",
    "plt.savefig(\"../features/XGboost feature importance.png\", dpi=300, bbox_inches='tight')\n",
    "plt.tight_layout()\n",
    "plt.show()"
   ]
  },
  {
   "cell_type": "code",
   "execution_count": 20,
   "id": "b88f479c",
   "metadata": {},
   "outputs": [
    {
     "name": "stdout",
     "output_type": "stream",
     "text": [
      "{'CV_MAE': np.float64(3994.0099664923414), 'CV_RMSE': np.float64(10049.065921472875), 'CV_R2': np.float64(0.9999188183122983)}\n"
     ]
    }
   ],
   "source": [
    "\n",
    "from sklearn.model_selection import cross_validate, KFold\n",
    "from sklearn.ensemble import RandomForestRegressor\n",
    "from sklearn.metrics import make_scorer, mean_absolute_error, mean_squared_error\n",
    "import numpy as np\n",
    "\n",
    "rf_model = RandomForestRegressor(\n",
    "    n_estimators=500,\n",
    "    max_depth=None,\n",
    "    random_state=42,\n",
    "    n_jobs=-1\n",
    ")\n",
    "\n",
    "\n",
    "scoring = {\n",
    "    'MAE': make_scorer(mean_absolute_error),\n",
    "    'RMSE': make_scorer(lambda y_true, y_pred: np.sqrt(mean_squared_error(y_true, y_pred))),\n",
    "    'R2': 'r2'\n",
    "}\n",
    "\n",
    "\n",
    "kf = KFold(n_splits=5, shuffle=True, random_state=42)\n",
    "\n",
    "cv_results = cross_validate(rf_model, X, y, cv=kf, scoring=scoring, return_train_score=False)\n",
    "\n",
    "mae_mean = np.mean(cv_results['test_MAE'])\n",
    "rmse_mean = np.mean(cv_results['test_RMSE'])\n",
    "r2_mean = np.mean(cv_results['test_R2'])\n",
    "\n",
    "print({\n",
    "    \"CV_MAE\": mae_mean,\n",
    "    \"CV_RMSE\": rmse_mean,\n",
    "    \"CV_R2\": r2_mean\n",
    "})"
   ]
  },
  {
   "cell_type": "markdown",
   "id": "be593f1d",
   "metadata": {},
   "source": [
    "### Random Forest Performance (Spatial Features + All Turbines)\n",
    "\n",
    "**Cross-Validation Metrics (5-Fold):**\n",
    "\n",
    "- **Mean Absolute Error (MAE):** 3,994.01  \n",
    "  > On average, the model predictions deviate from the true Total_Power by ~3,994 units.\n",
    "\n",
    "- **Root Mean Squared Error (RMSE):** 10,049.07  \n",
    "  > Sensitive to larger deviations; indicates some variability in prediction error.\n",
    "\n",
    "- **R² Score:** 0.99992  \n",
    "  > The model explains 99.992% of the variance in Total_Power, showing extremely high predictive accuracy.\n",
    "\n",
    "**Notes:**  \n",
    "The model uses **spatial summary features** (centroid_X, centroid_Y, X_range, Y_range, mean_radius, std_radius), together with **n_turbines, site_enc, and qW**.  \n",
    "These features allow the model to capture the overall arrangement and spread of turbines in each site, resulting in very strong predictive performance across folds."
   ]
  },
  {
   "cell_type": "code",
   "execution_count": null,
   "id": "ab2d48a1",
   "metadata": {},
   "outputs": [
    {
     "name": "stderr",
     "output_type": "stream",
     "text": [
      "C:\\Users\\Admin\\AppData\\Local\\Temp\\ipykernel_9472\\3091820883.py:1: PerformanceWarning: DataFrame is highly fragmented.  This is usually the result of calling `frame.insert` many times, which has poor performance.  Consider joining all columns at once using pd.concat(axis=1) instead. To get a de-fragmented frame, use `newframe = frame.copy()`\n",
      "  data['density'] = data['n_turbines'] / (data['X_range'] * data['Y_range'])\n",
      "C:\\Users\\Admin\\AppData\\Local\\Temp\\ipykernel_9472\\3091820883.py:2: PerformanceWarning: DataFrame is highly fragmented.  This is usually the result of calling `frame.insert` many times, which has poor performance.  Consider joining all columns at once using pd.concat(axis=1) instead. To get a de-fragmented frame, use `newframe = frame.copy()`\n",
      "  data['aspect_ratio'] = data['X_range'] / data['Y_range']\n"
     ]
    }
   ],
   "source": [
    "data['density'] = data['n_turbines'] / (data['X_range'] * data['Y_range'])\n",
    "data['aspect_ratio'] = data['X_range'] / data['Y_range']\n",
    "\n",
    "\n",
    "feature_cols = ['centroid_X', 'centroid_Y', 'X_range', 'Y_range', \n",
    "                'mean_radius', 'std_radius', 'qW', 'n_turbines', \n",
    "                'site_enc', 'density', 'aspect_ratio']\n",
    "\n",
    "X = data[feature_cols].astype('float32')\n",
    "y = data['Total_Power'].astype('float32')\n",
    "\n",
    "\n",
    "rf_model = RandomForestRegressor(\n",
    "    n_estimators=500,\n",
    "    max_depth=None,\n",
    "    random_state=42,\n",
    "    n_jobs=-1\n",
    ")\n",
    "\n",
    "\n",
    "scoring = {\n",
    "    'MAE': make_scorer(mean_absolute_error),\n",
    "    'RMSE': make_scorer(lambda y_true, y_pred: np.sqrt(mean_squared_error(y_true, y_pred))),\n",
    "    'R2': 'r2'\n",
    "}\n",
    "\n",
    "\n",
    "kf = KFold(n_splits=5, shuffle=True, random_state=42)\n",
    "\n",
    "cv_results = cross_validate(rf_model, X, y, cv=kf, scoring=scoring, return_train_score=False)\n",
    "\n",
    "\n",
    "mae_mean = np.mean(cv_results['test_MAE'])\n",
    "rmse_mean = np.mean(cv_results['test_RMSE'])\n",
    "r2_mean = np.mean(cv_results['test_R2'])\n",
    "\n",
    "print({\n",
    "    \"CV_MAE\": mae_mean,\n",
    "    \"CV_RMSE\": rmse_mean,\n",
    "    \"CV_R2\": r2_mean\n",
    "})\n",
    "\n",
    "\n",
    "rf_model.fit(X, y)\n",
    "\n",
    "importances = rf_model.feature_importances_\n",
    "feat_df = pd.DataFrame({\n",
    "    'Feature': feature_cols,\n",
    "    'Importance': importances\n",
    "})\n",
    "feat_df['Importance_Percent'] = 100 * feat_df['Importance'] / feat_df['Importance'].sum()\n",
    "feat_df = feat_df.sort_values(by='Importance_Percent', ascending=False)"
   ]
  }
 ],
 "metadata": {
  "kernelspec": {
   "display_name": "Python 3",
   "language": "python",
   "name": "python3"
  },
  "language_info": {
   "codemirror_mode": {
    "name": "ipython",
    "version": 3
   },
   "file_extension": ".py",
   "mimetype": "text/x-python",
   "name": "python",
   "nbconvert_exporter": "python",
   "pygments_lexer": "ipython3",
   "version": "3.13.6"
  }
 },
 "nbformat": 4,
 "nbformat_minor": 5
}
